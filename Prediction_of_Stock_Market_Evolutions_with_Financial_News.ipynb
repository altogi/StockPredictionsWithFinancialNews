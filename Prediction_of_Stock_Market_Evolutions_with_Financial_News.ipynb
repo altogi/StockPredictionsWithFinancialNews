{
  "nbformat": 4,
  "nbformat_minor": 0,
  "metadata": {
    "colab": {
      "name": "Prediction of Stock Market Evolutions with Financial News.ipynb",
      "provenance": [],
      "collapsed_sections": [],
      "toc_visible": true
    },
    "kernelspec": {
      "display_name": "Python 3",
      "name": "python3"
    },
    "language_info": {
      "name": "python"
    }
  },
  "cells": [
    {
      "cell_type": "markdown",
      "metadata": {
        "id": "WO8s2ox9p3NE"
      },
      "source": [
        "# Prediction of Stock Market Evolutions with Financial News\n",
        "\n"
      ]
    },
    {
      "cell_type": "markdown",
      "metadata": {
        "id": "sRa2_NGGspxu"
      },
      "source": [
        "## [StockPredictionsWithFinancialNews]((https://github.com/altogi/StockPredictionsWithFinancialNews): About the Project\n",
        "\n",
        "In the stock market, information is money. Receiving the information first gives one a significant advantage over other traders.\n",
        "Thus, it makes sense that financial news have a great influence over the market.\n",
        "\n",
        "Given the recent rise in the availability of data, and the apparition of revolutionary NLP techniques, it has been attempted in many occasions to predict market trends based on financial news. The majority of the existing solutions rely on sentiment analysis, assuming that a positive document sentiment is directly related to increases in a security's price, and viceversa. Sentiment is either extracted using a predefined dictionary of tagged words, or by applying deep learning techniques that rely on a large datasets of labeled news. An advanced example of rule-based sentiment analysis is [VADER](https://blog.quantinsti.com/vader-sentiment/), a model that is sensitive not only to polarity, but also to a document's intensity.\n",
        "\n",
        "With the recent dawn of the Transformer, it is now possible to extract the sentiment from a document in a much quicker non-sequential procedure, and with the usage of pre-trained models such as BERT, applying these models to a desired use case has never been simpler. An example of this is [FinBERT](https://arxiv.org/abs/1908.10063), a text classifier predicting sentiment with a fine-tuned version of BERT.\n",
        "\n",
        "Nevertheless, sentiment can act as an intermediate factor between the news, and the stock's price. As a result, developing a text classifier to predict sentiment is not as efficient as directly predicting price evolutions, when the objective is to develop a profitable trading strategy.\n",
        "\n",
        "This work has implemented a text classifier based on BERT, fine-tuned with a dataset of financial news, and trained in order to predict whether a stock's price will rise or fall. As opposed to FinBERT, sentiment is not taken into account. Instead, a set of criteria based on the price evolutions close to the release date of every news article have been applied, in order to label the dataset with which BERT is fine-tuned. Moreover, this work has been developed based on a much more extensive dataset than the one used for FinBERT, thus further capturing the uncertainties of the market. In consequence, it is possible to profitably manage a portfolio relying exclusively on this text classifier, without complementing it with other trading strategies, as many sentiment-based trading applications do.\n",
        "\n",
        "This notebook serves as a demo of project [StockPredictionsWithFinancialNews](https://github.com/altogi/StockPredictionsWithFinancialNews). From Kaggle's [Historical financial news archive](https://www.kaggle.com/gennadiyr/us-equities-news-data), a dataset of financial news is obtained. After a brief exploratory data analysis of it, all of the steps of the application are carried out."
      ]
    },
    {
      "cell_type": "markdown",
      "metadata": {
        "id": "4DhAQDXqp-Aj"
      },
      "source": [
        "## 1. Environment Set-Up"
      ]
    },
    {
      "cell_type": "code",
      "metadata": {
        "colab": {
          "base_uri": "https://localhost:8080/"
        },
        "id": "FknmRbcjxgSE",
        "outputId": "55bfe262-0fef-4717-c278-0cad456e2899"
      },
      "source": [
        "#Install all required libraries\n",
        "! pip install findspark\n",
        "! pip install IPython\n",
        "! pip install pandas\n",
        "! pip install matplotlib\n",
        "! pip install requests\n",
        "! pip install yfinance\n",
        "! pip install ktrain"
      ],
      "execution_count": 2,
      "outputs": [
        {
          "output_type": "stream",
          "text": [
            "Collecting findspark\n",
            "  Downloading https://files.pythonhosted.org/packages/fc/2d/2e39f9a023479ea798eed4351cd66f163ce61e00c717e03c37109f00c0f2/findspark-1.4.2-py2.py3-none-any.whl\n",
            "Installing collected packages: findspark\n",
            "Successfully installed findspark-1.4.2\n",
            "Requirement already satisfied: IPython in /usr/local/lib/python3.7/dist-packages (5.5.0)\n",
            "Requirement already satisfied: pygments in /usr/local/lib/python3.7/dist-packages (from IPython) (2.6.1)\n",
            "Requirement already satisfied: prompt-toolkit<2.0.0,>=1.0.4 in /usr/local/lib/python3.7/dist-packages (from IPython) (1.0.18)\n",
            "Requirement already satisfied: traitlets>=4.2 in /usr/local/lib/python3.7/dist-packages (from IPython) (5.0.5)\n",
            "Requirement already satisfied: pexpect; sys_platform != \"win32\" in /usr/local/lib/python3.7/dist-packages (from IPython) (4.8.0)\n",
            "Requirement already satisfied: decorator in /usr/local/lib/python3.7/dist-packages (from IPython) (4.4.2)\n",
            "Requirement already satisfied: setuptools>=18.5 in /usr/local/lib/python3.7/dist-packages (from IPython) (56.0.0)\n",
            "Requirement already satisfied: pickleshare in /usr/local/lib/python3.7/dist-packages (from IPython) (0.7.5)\n",
            "Requirement already satisfied: simplegeneric>0.8 in /usr/local/lib/python3.7/dist-packages (from IPython) (0.8.1)\n",
            "Requirement already satisfied: six>=1.9.0 in /usr/local/lib/python3.7/dist-packages (from prompt-toolkit<2.0.0,>=1.0.4->IPython) (1.15.0)\n",
            "Requirement already satisfied: wcwidth in /usr/local/lib/python3.7/dist-packages (from prompt-toolkit<2.0.0,>=1.0.4->IPython) (0.2.5)\n",
            "Requirement already satisfied: ipython-genutils in /usr/local/lib/python3.7/dist-packages (from traitlets>=4.2->IPython) (0.2.0)\n",
            "Requirement already satisfied: ptyprocess>=0.5 in /usr/local/lib/python3.7/dist-packages (from pexpect; sys_platform != \"win32\"->IPython) (0.7.0)\n",
            "Requirement already satisfied: pandas in /usr/local/lib/python3.7/dist-packages (1.1.5)\n",
            "Requirement already satisfied: pytz>=2017.2 in /usr/local/lib/python3.7/dist-packages (from pandas) (2018.9)\n",
            "Requirement already satisfied: python-dateutil>=2.7.3 in /usr/local/lib/python3.7/dist-packages (from pandas) (2.8.1)\n",
            "Requirement already satisfied: numpy>=1.15.4 in /usr/local/lib/python3.7/dist-packages (from pandas) (1.19.5)\n",
            "Requirement already satisfied: six>=1.5 in /usr/local/lib/python3.7/dist-packages (from python-dateutil>=2.7.3->pandas) (1.15.0)\n",
            "Requirement already satisfied: matplotlib in /usr/local/lib/python3.7/dist-packages (3.2.2)\n",
            "Requirement already satisfied: cycler>=0.10 in /usr/local/lib/python3.7/dist-packages (from matplotlib) (0.10.0)\n",
            "Requirement already satisfied: numpy>=1.11 in /usr/local/lib/python3.7/dist-packages (from matplotlib) (1.19.5)\n",
            "Requirement already satisfied: python-dateutil>=2.1 in /usr/local/lib/python3.7/dist-packages (from matplotlib) (2.8.1)\n",
            "Requirement already satisfied: kiwisolver>=1.0.1 in /usr/local/lib/python3.7/dist-packages (from matplotlib) (1.3.1)\n",
            "Requirement already satisfied: pyparsing!=2.0.4,!=2.1.2,!=2.1.6,>=2.0.1 in /usr/local/lib/python3.7/dist-packages (from matplotlib) (2.4.7)\n",
            "Requirement already satisfied: six in /usr/local/lib/python3.7/dist-packages (from cycler>=0.10->matplotlib) (1.15.0)\n",
            "Requirement already satisfied: requests in /usr/local/lib/python3.7/dist-packages (2.23.0)\n",
            "Requirement already satisfied: idna<3,>=2.5 in /usr/local/lib/python3.7/dist-packages (from requests) (2.10)\n",
            "Requirement already satisfied: chardet<4,>=3.0.2 in /usr/local/lib/python3.7/dist-packages (from requests) (3.0.4)\n",
            "Requirement already satisfied: urllib3!=1.25.0,!=1.25.1,<1.26,>=1.21.1 in /usr/local/lib/python3.7/dist-packages (from requests) (1.24.3)\n",
            "Requirement already satisfied: certifi>=2017.4.17 in /usr/local/lib/python3.7/dist-packages (from requests) (2020.12.5)\n",
            "Collecting yfinance\n",
            "  Downloading https://files.pythonhosted.org/packages/a7/ee/315752b9ef281ba83c62aa7ec2e2074f85223da6e7e74efb4d3e11c0f510/yfinance-0.1.59.tar.gz\n",
            "Requirement already satisfied: pandas>=0.24 in /usr/local/lib/python3.7/dist-packages (from yfinance) (1.1.5)\n",
            "Requirement already satisfied: numpy>=1.15 in /usr/local/lib/python3.7/dist-packages (from yfinance) (1.19.5)\n",
            "Requirement already satisfied: requests>=2.20 in /usr/local/lib/python3.7/dist-packages (from yfinance) (2.23.0)\n",
            "Requirement already satisfied: multitasking>=0.0.7 in /usr/local/lib/python3.7/dist-packages (from yfinance) (0.0.9)\n",
            "Collecting lxml>=4.5.1\n",
            "\u001b[?25l  Downloading https://files.pythonhosted.org/packages/30/c0/d0526314971fc661b083ab135747dc68446a3022686da8c16d25fcf6ef07/lxml-4.6.3-cp37-cp37m-manylinux2014_x86_64.whl (6.3MB)\n",
            "\u001b[K     |████████████████████████████████| 6.3MB 7.7MB/s \n",
            "\u001b[?25hRequirement already satisfied: python-dateutil>=2.7.3 in /usr/local/lib/python3.7/dist-packages (from pandas>=0.24->yfinance) (2.8.1)\n",
            "Requirement already satisfied: pytz>=2017.2 in /usr/local/lib/python3.7/dist-packages (from pandas>=0.24->yfinance) (2018.9)\n",
            "Requirement already satisfied: chardet<4,>=3.0.2 in /usr/local/lib/python3.7/dist-packages (from requests>=2.20->yfinance) (3.0.4)\n",
            "Requirement already satisfied: idna<3,>=2.5 in /usr/local/lib/python3.7/dist-packages (from requests>=2.20->yfinance) (2.10)\n",
            "Requirement already satisfied: certifi>=2017.4.17 in /usr/local/lib/python3.7/dist-packages (from requests>=2.20->yfinance) (2020.12.5)\n",
            "Requirement already satisfied: urllib3!=1.25.0,!=1.25.1,<1.26,>=1.21.1 in /usr/local/lib/python3.7/dist-packages (from requests>=2.20->yfinance) (1.24.3)\n",
            "Requirement already satisfied: six>=1.5 in /usr/local/lib/python3.7/dist-packages (from python-dateutil>=2.7.3->pandas>=0.24->yfinance) (1.15.0)\n",
            "Building wheels for collected packages: yfinance\n",
            "  Building wheel for yfinance (setup.py) ... \u001b[?25l\u001b[?25hdone\n",
            "  Created wheel for yfinance: filename=yfinance-0.1.59-py2.py3-none-any.whl size=23442 sha256=4e9803f83919e37a5bfbba486eab92b3e8c74f4f2a0066a7c1f002a073773680\n",
            "  Stored in directory: /root/.cache/pip/wheels/f8/2a/0f/4b5a86e1d52e451757eb6bc17fd899629f0925c777741b6d04\n",
            "Successfully built yfinance\n",
            "Installing collected packages: lxml, yfinance\n",
            "  Found existing installation: lxml 4.2.6\n",
            "    Uninstalling lxml-4.2.6:\n",
            "      Successfully uninstalled lxml-4.2.6\n",
            "Successfully installed lxml-4.6.3 yfinance-0.1.59\n",
            "Collecting ktrain\n",
            "\u001b[?25l  Downloading https://files.pythonhosted.org/packages/99/67/31cab9d7c0e23333aebc28b082659c1528f9ab7e22d00e7237efe4fc14f6/ktrain-0.26.2.tar.gz (25.3MB)\n",
            "\u001b[K     |████████████████████████████████| 25.3MB 1.3MB/s \n",
            "\u001b[?25hCollecting scikit-learn==0.23.2\n",
            "\u001b[?25l  Downloading https://files.pythonhosted.org/packages/f4/cb/64623369f348e9bfb29ff898a57ac7c91ed4921f228e9726546614d63ccb/scikit_learn-0.23.2-cp37-cp37m-manylinux1_x86_64.whl (6.8MB)\n",
            "\u001b[K     |████████████████████████████████| 6.8MB 36.6MB/s \n",
            "\u001b[?25hRequirement already satisfied: matplotlib>=3.0.0 in /usr/local/lib/python3.7/dist-packages (from ktrain) (3.2.2)\n",
            "Requirement already satisfied: pandas>=1.0.1 in /usr/local/lib/python3.7/dist-packages (from ktrain) (1.1.5)\n",
            "Requirement already satisfied: fastprogress>=0.1.21 in /usr/local/lib/python3.7/dist-packages (from ktrain) (1.0.0)\n",
            "Requirement already satisfied: requests in /usr/local/lib/python3.7/dist-packages (from ktrain) (2.23.0)\n",
            "Requirement already satisfied: joblib in /usr/local/lib/python3.7/dist-packages (from ktrain) (1.0.1)\n",
            "Requirement already satisfied: packaging in /usr/local/lib/python3.7/dist-packages (from ktrain) (20.9)\n",
            "Requirement already satisfied: ipython in /usr/local/lib/python3.7/dist-packages (from ktrain) (5.5.0)\n",
            "Collecting langdetect\n",
            "\u001b[?25l  Downloading https://files.pythonhosted.org/packages/56/a3/8407c1e62d5980188b4acc45ef3d94b933d14a2ebc9ef3505f22cf772570/langdetect-1.0.8.tar.gz (981kB)\n",
            "\u001b[K     |████████████████████████████████| 983kB 39.3MB/s \n",
            "\u001b[?25hRequirement already satisfied: jieba in /usr/local/lib/python3.7/dist-packages (from ktrain) (0.42.1)\n",
            "Collecting cchardet\n",
            "\u001b[?25l  Downloading https://files.pythonhosted.org/packages/80/72/a4fba7559978de00cf44081c548c5d294bf00ac7dcda2db405d2baa8c67a/cchardet-2.1.7-cp37-cp37m-manylinux2010_x86_64.whl (263kB)\n",
            "\u001b[K     |████████████████████████████████| 266kB 17.9MB/s \n",
            "\u001b[?25hCollecting syntok\n",
            "  Downloading https://files.pythonhosted.org/packages/8c/76/a49e73a04b3e3a14ce232e8e28a1587f8108baa665644fe8c40e307e792e/syntok-1.3.1.tar.gz\n",
            "Collecting seqeval==0.0.19\n",
            "  Downloading https://files.pythonhosted.org/packages/93/e5/b7705156a77f742cfe4fc6f22d0c71591edb2d243328dff2f8fc0f933ab6/seqeval-0.0.19.tar.gz\n",
            "Collecting transformers<=4.3.3,>=4.0.0\n",
            "\u001b[?25l  Downloading https://files.pythonhosted.org/packages/f9/54/5ca07ec9569d2f232f3166de5457b63943882f7950ddfcc887732fc7fb23/transformers-4.3.3-py3-none-any.whl (1.9MB)\n",
            "\u001b[K     |████████████████████████████████| 1.9MB 34.4MB/s \n",
            "\u001b[?25hCollecting sentencepiece\n",
            "\u001b[?25l  Downloading https://files.pythonhosted.org/packages/f5/99/e0808cb947ba10f575839c43e8fafc9cc44e4a7a2c8f79c60db48220a577/sentencepiece-0.1.95-cp37-cp37m-manylinux2014_x86_64.whl (1.2MB)\n",
            "\u001b[K     |████████████████████████████████| 1.2MB 45.7MB/s \n",
            "\u001b[?25hCollecting keras_bert>=0.86.0\n",
            "  Downloading https://files.pythonhosted.org/packages/e2/7f/95fabd29f4502924fa3f09ff6538c5a7d290dfef2c2fe076d3d1a16e08f0/keras-bert-0.86.0.tar.gz\n",
            "Requirement already satisfied: networkx>=2.3 in /usr/local/lib/python3.7/dist-packages (from ktrain) (2.5.1)\n",
            "Collecting whoosh\n",
            "\u001b[?25l  Downloading https://files.pythonhosted.org/packages/ba/19/24d0f1f454a2c1eb689ca28d2f178db81e5024f42d82729a4ff6771155cf/Whoosh-2.7.4-py2.py3-none-any.whl (468kB)\n",
            "\u001b[K     |████████████████████████████████| 471kB 45.6MB/s \n",
            "\u001b[?25hRequirement already satisfied: numpy>=1.13.3 in /usr/local/lib/python3.7/dist-packages (from scikit-learn==0.23.2->ktrain) (1.19.5)\n",
            "Collecting threadpoolctl>=2.0.0\n",
            "  Downloading https://files.pythonhosted.org/packages/f7/12/ec3f2e203afa394a149911729357aa48affc59c20e2c1c8297a60f33f133/threadpoolctl-2.1.0-py3-none-any.whl\n",
            "Requirement already satisfied: scipy>=0.19.1 in /usr/local/lib/python3.7/dist-packages (from scikit-learn==0.23.2->ktrain) (1.4.1)\n",
            "Requirement already satisfied: kiwisolver>=1.0.1 in /usr/local/lib/python3.7/dist-packages (from matplotlib>=3.0.0->ktrain) (1.3.1)\n",
            "Requirement already satisfied: pyparsing!=2.0.4,!=2.1.2,!=2.1.6,>=2.0.1 in /usr/local/lib/python3.7/dist-packages (from matplotlib>=3.0.0->ktrain) (2.4.7)\n",
            "Requirement already satisfied: python-dateutil>=2.1 in /usr/local/lib/python3.7/dist-packages (from matplotlib>=3.0.0->ktrain) (2.8.1)\n",
            "Requirement already satisfied: cycler>=0.10 in /usr/local/lib/python3.7/dist-packages (from matplotlib>=3.0.0->ktrain) (0.10.0)\n",
            "Requirement already satisfied: pytz>=2017.2 in /usr/local/lib/python3.7/dist-packages (from pandas>=1.0.1->ktrain) (2018.9)\n",
            "Requirement already satisfied: chardet<4,>=3.0.2 in /usr/local/lib/python3.7/dist-packages (from requests->ktrain) (3.0.4)\n",
            "Requirement already satisfied: certifi>=2017.4.17 in /usr/local/lib/python3.7/dist-packages (from requests->ktrain) (2020.12.5)\n",
            "Requirement already satisfied: urllib3!=1.25.0,!=1.25.1,<1.26,>=1.21.1 in /usr/local/lib/python3.7/dist-packages (from requests->ktrain) (1.24.3)\n",
            "Requirement already satisfied: idna<3,>=2.5 in /usr/local/lib/python3.7/dist-packages (from requests->ktrain) (2.10)\n",
            "Requirement already satisfied: pickleshare in /usr/local/lib/python3.7/dist-packages (from ipython->ktrain) (0.7.5)\n",
            "Requirement already satisfied: simplegeneric>0.8 in /usr/local/lib/python3.7/dist-packages (from ipython->ktrain) (0.8.1)\n",
            "Requirement already satisfied: traitlets>=4.2 in /usr/local/lib/python3.7/dist-packages (from ipython->ktrain) (5.0.5)\n",
            "Requirement already satisfied: setuptools>=18.5 in /usr/local/lib/python3.7/dist-packages (from ipython->ktrain) (56.0.0)\n",
            "Requirement already satisfied: pexpect; sys_platform != \"win32\" in /usr/local/lib/python3.7/dist-packages (from ipython->ktrain) (4.8.0)\n",
            "Requirement already satisfied: prompt-toolkit<2.0.0,>=1.0.4 in /usr/local/lib/python3.7/dist-packages (from ipython->ktrain) (1.0.18)\n",
            "Requirement already satisfied: decorator in /usr/local/lib/python3.7/dist-packages (from ipython->ktrain) (4.4.2)\n",
            "Requirement already satisfied: pygments in /usr/local/lib/python3.7/dist-packages (from ipython->ktrain) (2.6.1)\n",
            "Requirement already satisfied: six in /usr/local/lib/python3.7/dist-packages (from langdetect->ktrain) (1.15.0)\n",
            "Requirement already satisfied: regex in /usr/local/lib/python3.7/dist-packages (from syntok->ktrain) (2019.12.20)\n",
            "Requirement already satisfied: Keras>=2.2.4 in /usr/local/lib/python3.7/dist-packages (from seqeval==0.0.19->ktrain) (2.4.3)\n",
            "Requirement already satisfied: tqdm>=4.27 in /usr/local/lib/python3.7/dist-packages (from transformers<=4.3.3,>=4.0.0->ktrain) (4.41.1)\n",
            "Requirement already satisfied: filelock in /usr/local/lib/python3.7/dist-packages (from transformers<=4.3.3,>=4.0.0->ktrain) (3.0.12)\n",
            "Requirement already satisfied: importlib-metadata; python_version < \"3.8\" in /usr/local/lib/python3.7/dist-packages (from transformers<=4.3.3,>=4.0.0->ktrain) (3.10.1)\n",
            "Collecting sacremoses\n",
            "\u001b[?25l  Downloading https://files.pythonhosted.org/packages/75/ee/67241dc87f266093c533a2d4d3d69438e57d7a90abb216fa076e7d475d4a/sacremoses-0.0.45-py3-none-any.whl (895kB)\n",
            "\u001b[K     |████████████████████████████████| 901kB 46.1MB/s \n",
            "\u001b[?25hCollecting tokenizers<0.11,>=0.10.1\n",
            "\u001b[?25l  Downloading https://files.pythonhosted.org/packages/ae/04/5b870f26a858552025a62f1649c20d29d2672c02ff3c3fb4c688ca46467a/tokenizers-0.10.2-cp37-cp37m-manylinux2010_x86_64.whl (3.3MB)\n",
            "\u001b[K     |████████████████████████████████| 3.3MB 38.8MB/s \n",
            "\u001b[?25hCollecting keras-transformer>=0.38.0\n",
            "  Downloading https://files.pythonhosted.org/packages/89/6c/d6f0c164f4cc16fbc0d0fea85f5526e87a7d2df7b077809e422a7e626150/keras-transformer-0.38.0.tar.gz\n",
            "Requirement already satisfied: ipython-genutils in /usr/local/lib/python3.7/dist-packages (from traitlets>=4.2->ipython->ktrain) (0.2.0)\n",
            "Requirement already satisfied: ptyprocess>=0.5 in /usr/local/lib/python3.7/dist-packages (from pexpect; sys_platform != \"win32\"->ipython->ktrain) (0.7.0)\n",
            "Requirement already satisfied: wcwidth in /usr/local/lib/python3.7/dist-packages (from prompt-toolkit<2.0.0,>=1.0.4->ipython->ktrain) (0.2.5)\n",
            "Requirement already satisfied: h5py in /usr/local/lib/python3.7/dist-packages (from Keras>=2.2.4->seqeval==0.0.19->ktrain) (2.10.0)\n",
            "Requirement already satisfied: pyyaml in /usr/local/lib/python3.7/dist-packages (from Keras>=2.2.4->seqeval==0.0.19->ktrain) (3.13)\n",
            "Requirement already satisfied: zipp>=0.5 in /usr/local/lib/python3.7/dist-packages (from importlib-metadata; python_version < \"3.8\"->transformers<=4.3.3,>=4.0.0->ktrain) (3.4.1)\n",
            "Requirement already satisfied: typing-extensions>=3.6.4; python_version < \"3.8\" in /usr/local/lib/python3.7/dist-packages (from importlib-metadata; python_version < \"3.8\"->transformers<=4.3.3,>=4.0.0->ktrain) (3.7.4.3)\n",
            "Requirement already satisfied: click in /usr/local/lib/python3.7/dist-packages (from sacremoses->transformers<=4.3.3,>=4.0.0->ktrain) (7.1.2)\n",
            "Collecting keras-pos-embd>=0.11.0\n",
            "  Downloading https://files.pythonhosted.org/packages/09/70/b63ed8fc660da2bb6ae29b9895401c628da5740c048c190b5d7107cadd02/keras-pos-embd-0.11.0.tar.gz\n",
            "Collecting keras-multi-head>=0.27.0\n",
            "  Downloading https://files.pythonhosted.org/packages/e6/32/45adf2549450aca7867deccfa04af80a0ab1ca139af44b16bc669e0e09cd/keras-multi-head-0.27.0.tar.gz\n",
            "Collecting keras-layer-normalization>=0.14.0\n",
            "  Downloading https://files.pythonhosted.org/packages/a4/0e/d1078df0494bac9ce1a67954e5380b6e7569668f0f3b50a9531c62c1fc4a/keras-layer-normalization-0.14.0.tar.gz\n",
            "Collecting keras-position-wise-feed-forward>=0.6.0\n",
            "  Downloading https://files.pythonhosted.org/packages/e3/59/f0faa1037c033059e7e9e7758e6c23b4d1c0772cd48de14c4b6fd4033ad5/keras-position-wise-feed-forward-0.6.0.tar.gz\n",
            "Collecting keras-embed-sim>=0.8.0\n",
            "  Downloading https://files.pythonhosted.org/packages/57/ef/61a1e39082c9e1834a2d09261d4a0b69f7c818b359216d4e1912b20b1c86/keras-embed-sim-0.8.0.tar.gz\n",
            "Collecting keras-self-attention==0.46.0\n",
            "  Downloading https://files.pythonhosted.org/packages/15/6b/c804924a056955fa1f3ff767945187103cfc851ba9bd0fc5a6c6bc18e2eb/keras-self-attention-0.46.0.tar.gz\n",
            "Building wheels for collected packages: ktrain, langdetect, syntok, seqeval, keras-bert, keras-transformer, keras-pos-embd, keras-multi-head, keras-layer-normalization, keras-position-wise-feed-forward, keras-embed-sim, keras-self-attention\n",
            "  Building wheel for ktrain (setup.py) ... \u001b[?25l\u001b[?25hdone\n",
            "  Created wheel for ktrain: filename=ktrain-0.26.2-cp37-none-any.whl size=25277794 sha256=8f34fe7a5f00113a825b8d0d9f7ea2f0a7d5c0adfab0bee529823c9f2045e492\n",
            "  Stored in directory: /root/.cache/pip/wheels/67/2e/f1/c72afa08df8b2d984b910dea228902ce81dae4511afe9fafd2\n",
            "  Building wheel for langdetect (setup.py) ... \u001b[?25l\u001b[?25hdone\n",
            "  Created wheel for langdetect: filename=langdetect-1.0.8-cp37-none-any.whl size=993193 sha256=7f214f55bf91726d2517820eb700efb6954b62c1cea73ac91d18bbb752b6ce50\n",
            "  Stored in directory: /root/.cache/pip/wheels/8d/b3/aa/6d99de9f3841d7d3d40a60ea06e6d669e8e5012e6c8b947a57\n",
            "  Building wheel for syntok (setup.py) ... \u001b[?25l\u001b[?25hdone\n",
            "  Created wheel for syntok: filename=syntok-1.3.1-cp37-none-any.whl size=20919 sha256=c8d60cfde8bc84c41d0031b253ad6e6726243935479ae3a1842a144f7f155585\n",
            "  Stored in directory: /root/.cache/pip/wheels/51/c6/a4/be1920586c49469846bcd2888200bdecfe109ec421dab9be2d\n",
            "  Building wheel for seqeval (setup.py) ... \u001b[?25l\u001b[?25hdone\n",
            "  Created wheel for seqeval: filename=seqeval-0.0.19-cp37-none-any.whl size=9919 sha256=4de22892e4ea3e8c2205f255e0d7730c3538bef9b9c9d2ad8a857bd2c6f61ebc\n",
            "  Stored in directory: /root/.cache/pip/wheels/8d/1f/bf/1198beceed805a2099060975f6281d1b01046dd279e19c97be\n",
            "  Building wheel for keras-bert (setup.py) ... \u001b[?25l\u001b[?25hdone\n",
            "  Created wheel for keras-bert: filename=keras_bert-0.86.0-cp37-none-any.whl size=34144 sha256=cb8892ca1c471a5fde778f9b116ec2c6a3b1bc85e559b0ec8cb8d599364830ab\n",
            "  Stored in directory: /root/.cache/pip/wheels/66/f0/b1/748128b58562fc9e31b907bb5e2ab6a35eb37695e83911236b\n",
            "  Building wheel for keras-transformer (setup.py) ... \u001b[?25l\u001b[?25hdone\n",
            "  Created wheel for keras-transformer: filename=keras_transformer-0.38.0-cp37-none-any.whl size=12942 sha256=785342b5c8b09015cbec55ea0573f31186653a2a4a79358accf8d6af58b8dcc7\n",
            "  Stored in directory: /root/.cache/pip/wheels/e5/fb/3a/37b2b9326c799aa010ae46a04ddb04f320d8c77c0b7e837f4e\n",
            "  Building wheel for keras-pos-embd (setup.py) ... \u001b[?25l\u001b[?25hdone\n",
            "  Created wheel for keras-pos-embd: filename=keras_pos_embd-0.11.0-cp37-none-any.whl size=7554 sha256=a8792facd7a73e4edb1c07ccd464a48e1d58c607624f2bdc83bf1a4893f49206\n",
            "  Stored in directory: /root/.cache/pip/wheels/5b/a1/a0/ce6b1d49ba1a9a76f592e70cf297b05c96bc9f418146761032\n",
            "  Building wheel for keras-multi-head (setup.py) ... \u001b[?25l\u001b[?25hdone\n",
            "  Created wheel for keras-multi-head: filename=keras_multi_head-0.27.0-cp37-none-any.whl size=15611 sha256=b89f83528e875b40a2f07321570fe07ffce1d07f7c5c9bb63b82ece64d630286\n",
            "  Stored in directory: /root/.cache/pip/wheels/b5/b4/49/0a0c27dcb93c13af02fea254ff51d1a43a924dd4e5b7a7164d\n",
            "  Building wheel for keras-layer-normalization (setup.py) ... \u001b[?25l\u001b[?25hdone\n",
            "  Created wheel for keras-layer-normalization: filename=keras_layer_normalization-0.14.0-cp37-none-any.whl size=5269 sha256=7024b9bea477f9304aa01e512bede66564bb609313dab6fd87f1fd47eb0550d2\n",
            "  Stored in directory: /root/.cache/pip/wheels/54/80/22/a638a7d406fd155e507aa33d703e3fa2612b9eb7bb4f4fe667\n",
            "  Building wheel for keras-position-wise-feed-forward (setup.py) ... \u001b[?25l\u001b[?25hdone\n",
            "  Created wheel for keras-position-wise-feed-forward: filename=keras_position_wise_feed_forward-0.6.0-cp37-none-any.whl size=5623 sha256=4df23aa564b85b68be14af176a5e35576983414b2e04ff556e7c02db4f809fc9\n",
            "  Stored in directory: /root/.cache/pip/wheels/39/e2/e2/3514fef126a00574b13bc0b9e23891800158df3a3c19c96e3b\n",
            "  Building wheel for keras-embed-sim (setup.py) ... \u001b[?25l\u001b[?25hdone\n",
            "  Created wheel for keras-embed-sim: filename=keras_embed_sim-0.8.0-cp37-none-any.whl size=4558 sha256=e6f792abc152d99747b38c43a0eb3adb2b1affaad622e1ef7fcb69197e549e18\n",
            "  Stored in directory: /root/.cache/pip/wheels/49/45/8b/c111f6cc8bec253e984677de73a6f4f5d2f1649f42aac191c8\n",
            "  Building wheel for keras-self-attention (setup.py) ... \u001b[?25l\u001b[?25hdone\n",
            "  Created wheel for keras-self-attention: filename=keras_self_attention-0.46.0-cp37-none-any.whl size=17278 sha256=c06b2aecef62b087651678ee7a95c8fce46ca415213197157cbb57591478eaa1\n",
            "  Stored in directory: /root/.cache/pip/wheels/d2/2e/80/fec4c05eb23c8e13b790e26d207d6e0ffe8013fad8c6bdd4d2\n",
            "Successfully built ktrain langdetect syntok seqeval keras-bert keras-transformer keras-pos-embd keras-multi-head keras-layer-normalization keras-position-wise-feed-forward keras-embed-sim keras-self-attention\n",
            "Installing collected packages: threadpoolctl, scikit-learn, langdetect, cchardet, syntok, seqeval, sacremoses, tokenizers, transformers, sentencepiece, keras-pos-embd, keras-self-attention, keras-multi-head, keras-layer-normalization, keras-position-wise-feed-forward, keras-embed-sim, keras-transformer, keras-bert, whoosh, ktrain\n",
            "  Found existing installation: scikit-learn 0.22.2.post1\n",
            "    Uninstalling scikit-learn-0.22.2.post1:\n",
            "      Successfully uninstalled scikit-learn-0.22.2.post1\n",
            "Successfully installed cchardet-2.1.7 keras-bert-0.86.0 keras-embed-sim-0.8.0 keras-layer-normalization-0.14.0 keras-multi-head-0.27.0 keras-pos-embd-0.11.0 keras-position-wise-feed-forward-0.6.0 keras-self-attention-0.46.0 keras-transformer-0.38.0 ktrain-0.26.2 langdetect-1.0.8 sacremoses-0.0.45 scikit-learn-0.23.2 sentencepiece-0.1.95 seqeval-0.0.19 syntok-1.3.1 threadpoolctl-2.1.0 tokenizers-0.10.2 transformers-4.3.3 whoosh-2.7.4\n"
          ],
          "name": "stdout"
        }
      ]
    },
    {
      "cell_type": "code",
      "metadata": {
        "id": "J4C0kljBrM-A"
      },
      "source": [
        "import pandas as pd\n",
        "pd.set_option('display.max_colwidth', None)\n",
        "import matplotlib.pyplot as plt\n",
        "import numpy as np\n",
        "import yfinance as yf\n",
        "from datetime import datetime, timedelta\n",
        "from sklearn.metrics import confusion_matrix, f1_score, accuracy_score, matthews_corrcoef\n",
        "from main import FinancialNewsPredictor"
      ],
      "execution_count": 55,
      "outputs": []
    },
    {
      "cell_type": "code",
      "metadata": {
        "colab": {
          "base_uri": "https://localhost:8080/"
        },
        "id": "4QGJlXnbihPT",
        "outputId": "c67be300-be6e-4d06-96fe-a372bd591aa9"
      },
      "source": [
        "from google.colab import drive\n",
        "drive.mount('/content/drive')"
      ],
      "execution_count": 1,
      "outputs": [
        {
          "output_type": "stream",
          "text": [
            "Mounted at /content/drive\n"
          ],
          "name": "stdout"
        }
      ]
    },
    {
      "cell_type": "markdown",
      "metadata": {
        "id": "VvhG3rgmrYAj"
      },
      "source": [
        "## 2. Exploratory Data Analysis"
      ]
    },
    {
      "cell_type": "code",
      "metadata": {
        "id": "22ZxU33NronE"
      },
      "source": [
        "df = pd.read_csv(\"/content/drive/MyDrive/Natural Language Processing/Group Assignment/us_equities_news_dataset.csv\", \n",
        "                        parse_dates=['release_date']\n",
        "                        )\\\n",
        "                        .dropna()"
      ],
      "execution_count": 5,
      "outputs": []
    },
    {
      "cell_type": "code",
      "metadata": {
        "colab": {
          "base_uri": "https://localhost:8080/",
          "height": 1000
        },
        "id": "86n6t2TYsGNc",
        "outputId": "41dc62c7-e63d-4256-ab0e-c4d3d99a0fa6"
      },
      "source": [
        "df.head(5)"
      ],
      "execution_count": 6,
      "outputs": [
        {
          "output_type": "execute_result",
          "data": {
            "text/html": [
              "<div>\n",
              "<style scoped>\n",
              "    .dataframe tbody tr th:only-of-type {\n",
              "        vertical-align: middle;\n",
              "    }\n",
              "\n",
              "    .dataframe tbody tr th {\n",
              "        vertical-align: top;\n",
              "    }\n",
              "\n",
              "    .dataframe thead th {\n",
              "        text-align: right;\n",
              "    }\n",
              "</style>\n",
              "<table border=\"1\" class=\"dataframe\">\n",
              "  <thead>\n",
              "    <tr style=\"text-align: right;\">\n",
              "      <th></th>\n",
              "      <th>id</th>\n",
              "      <th>ticker</th>\n",
              "      <th>title</th>\n",
              "      <th>category</th>\n",
              "      <th>content</th>\n",
              "      <th>release_date</th>\n",
              "      <th>provider</th>\n",
              "      <th>url</th>\n",
              "      <th>article_id</th>\n",
              "    </tr>\n",
              "  </thead>\n",
              "  <tbody>\n",
              "    <tr>\n",
              "      <th>0</th>\n",
              "      <td>221515</td>\n",
              "      <td>NIO</td>\n",
              "      <td>Why Shares of Chinese Electric Car Maker NIO Are Flying High Today</td>\n",
              "      <td>news</td>\n",
              "      <td>What s happening\\nShares of Chinese electric car maker NIO  NYSE NIO  were sharply higher on Wednesday morning after a Chinese business news outlet reported that the cash strapped company had secured new financing from a major automaker  As of 12 p m  EST  NIO s American depositary shares  ADS  were up about 16  from Tuesday s closing price \\nSo what\\nAccording to a report from Chinese business news site Sina Finance that cites a person familiar with the matter  NIO will soon receive a cash infusion of about  1 billion from Guangzhou based GAC Group  OTC GNZUF    At press time  neither NIO nor GAC had confirmed    or denied    the report  \\n\\nGAC is one of China s big domestic automakers  It has significant joint ventures with Honda Motor and Fiat Chrysler Automobiles  among others  If GAC has in fact decided to make a major investment in NIO    and as of now  neither company has confirmed the report    then NIO s future is bright  \\nThat s an important development  In its 15 months as a public company  NIO has seen rising sales and strong customer loyalty  but its rapidly declining cash has called its future into question  As of Sept  30  the company had just  274 3 million remaining  down from  1 123 billion on March 31 \\nNow what\\nIf this report is accurate and if the deal closes  then it s extremely bullish for NIO    but I think that auto investors should tread a bit carefully here  Note that an earlier bailout deal fell through at the last minute because of concerns about the company s viability  Use caution with this one</td>\n",
              "      <td>2020-01-15</td>\n",
              "      <td>The Motley Fool</td>\n",
              "      <td>https://invst.ly/pigqi</td>\n",
              "      <td>2060327</td>\n",
              "    </tr>\n",
              "    <tr>\n",
              "      <th>1</th>\n",
              "      <td>221516</td>\n",
              "      <td>NIO</td>\n",
              "      <td>NIO only consumer gainer  Workhorse Group among losers</td>\n",
              "      <td>news</td>\n",
              "      <td>Gainers  NIO  NYSE NIO   7  \\nLosers  MGP Ingredients  NASDAQ MGPI   24   Workhorse Group  NASDAQ WKHS   9   China XD Plastics  NASDAQ CXDC   6</td>\n",
              "      <td>2020-01-18</td>\n",
              "      <td>Seeking Alpha</td>\n",
              "      <td>https://invst.ly/pje9c</td>\n",
              "      <td>2062196</td>\n",
              "    </tr>\n",
              "    <tr>\n",
              "      <th>2</th>\n",
              "      <td>221517</td>\n",
              "      <td>NIO</td>\n",
              "      <td>NIO leads consumer gainers  Beyond Meat and Mattel among losers</td>\n",
              "      <td>news</td>\n",
              "      <td>Gainers  NIO  NYSE NIO   14   Village Farms International  NASDAQ VFF   14   Purple Innovation  NASDAQ PRPL   7   KBS Fashion  NASDAQ KBSF   7   New Age Beverages  NASDAQ NBEV   6  \\nLosers  CTI Industries  NASDAQ CTIB   13   Dogness  International   NASDAQ DOGZ   5   Calyxt  NASDAQ CLXT   7   Mattel  NASDAQ MAT   6   Beyond Meat  NASDAQ BYND   6</td>\n",
              "      <td>2020-01-15</td>\n",
              "      <td>Seeking Alpha</td>\n",
              "      <td>https://invst.ly/pifmv</td>\n",
              "      <td>2060249</td>\n",
              "    </tr>\n",
              "    <tr>\n",
              "      <th>3</th>\n",
              "      <td>221518</td>\n",
              "      <td>NIO</td>\n",
              "      <td>NIO  NVAX among premarket gainers</td>\n",
              "      <td>news</td>\n",
              "      <td>Cemtrex  NASDAQ CETX   85  after FY results \\nFluent  NASDAQ FLNT   36  after raising preliminary financials \\nOrganiGram Holdings  NASDAQ OGI   24   after Q4 results \\nClovis Oncology  NASDAQ CLVS   22  as FDA accepts Clovis application for new use of Rubraca \\nMomenta Pharmaceuticals  NASDAQ MNTA   15  on positive analyst upgrade \\nRockwell Medical  NASDAQ RMTI   12  on Triferic deal in India \\nNeovasc  NASDAQ NVCN   11  as FDA accepts Neovasc s Reducer application \\nNIO  NYSE NIO   11  on hopes for funding secured \\nOncolytics Biotech  NASDAQ ONCY   11  \\nNovavax  NASDAQ NVAX   8  as NanoFlu Fast Track d in U S \\nTRACON Pharmaceuticals  NASDAQ TCON   7  \\nPG E  NYSE PCG   6  after Citigroup calls agreement  big step forward  \\nDURECT  NASDAQ DRRX   5</td>\n",
              "      <td>2020-01-15</td>\n",
              "      <td>Seeking Alpha</td>\n",
              "      <td>https://invst.ly/picu8</td>\n",
              "      <td>2060039</td>\n",
              "    </tr>\n",
              "    <tr>\n",
              "      <th>4</th>\n",
              "      <td>221519</td>\n",
              "      <td>NIO</td>\n",
              "      <td>PLUG  NIO among premarket gainers</td>\n",
              "      <td>news</td>\n",
              "      <td>aTyr Pharma  NASDAQ LIFE   63  on Kyorin Pharma deal \\nTown Sports International Holdings  NASDAQ CLUB   30  \\nPulmatrix  NASDAQ PULM   15  on research collaboration with Nocion Therapeutics to explore new technologies to enable and improve inhaled drug delivery \\nPlus Therapeutics  NASDAQ PSTV   14  on shareholder update \\nNIO  NYSE NIO   11  on robust December delivery update \\nProtalix BioTherapeutics  NYSEMKT PLX   10  \\nInspireMD  NYSEMKT NSPR   10  on strong preliminary 4Q19 revenue and reports inducement award under NYSE guide 711 a  \\nCamber Energy  NYSEMKT CEI   10  on regaining compliance with NYSE \\nCellectar Biosciences  NASDAQ CLRB   11  on orphan drug tag for CLR 131 in LPL \\nSmileDirectClub  NASDAQ SDC   8  on Walmart deal \\nFuelCell Energy  NASDAQ FCEL   9  on transition to seven year life stack design \\nPerion Network  NASDAQ PERI   8  on expecting FY2019 adjusted EBITDA to reach at least  30M \\nPlug Power  NASDAQ PLUG   7  on  172M order announcement \\nMicrobot Medical  NASDAQ MBOT   8  \\nYuma Energy  NYSEMKT YUMA   7  \\nCommercial Metals  NYSE CMC   7  on Q1 results \\nDenbury Resources  NYSE DNR   7  \\nCassava Sciences  NASDAQ SAVA   6  \\nCannTrust Holdings  NYSE CTST   6  \\nKala Pharmaceuticals  NASDAQ KALA   8  \\nKratos Defense   Security Solutions  NASDAQ KTOS  5  as defense spending referenced as Iran warnings escalate</td>\n",
              "      <td>2020-01-06</td>\n",
              "      <td>Seeking Alpha</td>\n",
              "      <td>https://seekingalpha.com/news/3529772-plug-nio-among-premarket-gainers</td>\n",
              "      <td>2053096</td>\n",
              "    </tr>\n",
              "  </tbody>\n",
              "</table>\n",
              "</div>"
            ],
            "text/plain": [
              "       id  ... article_id\n",
              "0  221515  ...    2060327\n",
              "1  221516  ...    2062196\n",
              "2  221517  ...    2060249\n",
              "3  221518  ...    2060039\n",
              "4  221519  ...    2053096\n",
              "\n",
              "[5 rows x 9 columns]"
            ]
          },
          "metadata": {
            "tags": []
          },
          "execution_count": 6
        }
      ]
    },
    {
      "cell_type": "markdown",
      "metadata": {
        "id": "XnVSelVRMcpt"
      },
      "source": [
        "From this preview, it is clear that the dataset employed here perfectly follows the format required by the application. More specifically, this dataset contains:\n",
        "* An identification column **id**, representing every news article.\n",
        "* A column **content** containing the article's text.\n",
        "* A field **ticker** with the stock ticker of the company mentioned in the article.\n",
        "* A column **release_date** with the date in which the article came out. "
      ]
    },
    {
      "cell_type": "markdown",
      "metadata": {
        "id": "TC19FH93uE4S"
      },
      "source": [
        "### 2.1 Converting release_date to DateTime\n",
        "Although this is automatically done by the application, it is useful for the EDA."
      ]
    },
    {
      "cell_type": "code",
      "metadata": {
        "id": "mc1fsGQntQx1"
      },
      "source": [
        "df['release_date'] = pd.to_datetime(df['release_date'])"
      ],
      "execution_count": 7,
      "outputs": []
    },
    {
      "cell_type": "markdown",
      "metadata": {
        "id": "AXqECSRXvEmd"
      },
      "source": [
        "### 2.2 How many unique values are there for ticker, category, and provider?"
      ]
    },
    {
      "cell_type": "code",
      "metadata": {
        "colab": {
          "base_uri": "https://localhost:8080/"
        },
        "id": "pAaLG8WaKPM_",
        "outputId": "33711abf-3d6a-42cd-b41a-8caf878acf48"
      },
      "source": [
        "print(\"Checking amount of distinct values in columns ticker, category, and provider:\")\n",
        "df[['ticker', 'category', 'provider']].nunique()"
      ],
      "execution_count": 8,
      "outputs": [
        {
          "output_type": "stream",
          "text": [
            "Checking amount of distinct values in columns ticker, category, and provider:\n"
          ],
          "name": "stdout"
        },
        {
          "output_type": "execute_result",
          "data": {
            "text/plain": [
              "ticker      802\n",
              "category      2\n",
              "provider    979\n",
              "dtype: int64"
            ]
          },
          "metadata": {
            "tags": []
          },
          "execution_count": 8
        }
      ]
    },
    {
      "cell_type": "markdown",
      "metadata": {
        "id": "9MQWaz8rwTO-"
      },
      "source": [
        "### 2.3 How many missing values are there in the whole dataset?\n",
        "In case null values are found in columns 'id', 'ticker', 'content', or 'release_date', it would be necessary to scrap the rows with null values."
      ]
    },
    {
      "cell_type": "code",
      "metadata": {
        "colab": {
          "base_uri": "https://localhost:8080/"
        },
        "id": "0jY2sf03KdA8",
        "outputId": "b44b98ff-193a-4de7-e5e8-7216c790766a"
      },
      "source": [
        "print(\"Checking amount of null values in the whole dataset:\")\n",
        "df.isna().sum(axis=0)"
      ],
      "execution_count": 9,
      "outputs": [
        {
          "output_type": "stream",
          "text": [
            "Checking amount of null values in the whole dataset:\n"
          ],
          "name": "stdout"
        },
        {
          "output_type": "execute_result",
          "data": {
            "text/plain": [
              "id              0\n",
              "ticker          0\n",
              "title           0\n",
              "category        0\n",
              "content         0\n",
              "release_date    0\n",
              "provider        0\n",
              "url             0\n",
              "article_id      0\n",
              "dtype: int64"
            ]
          },
          "metadata": {
            "tags": []
          },
          "execution_count": 9
        }
      ]
    },
    {
      "cell_type": "markdown",
      "metadata": {
        "id": "Mms5vtGkwzUq"
      },
      "source": [
        "### 2.4 What is the temporal extent of the dataset?"
      ]
    },
    {
      "cell_type": "code",
      "metadata": {
        "colab": {
          "base_uri": "https://localhost:8080/"
        },
        "id": "-lNOI995w17V",
        "outputId": "dfde5b63-f73b-4437-ef27-c310c4b2218f"
      },
      "source": [
        "min_date = df['release_date'].min()\n",
        "max_date = df['release_date'].max()\n",
        "print(f'The dataset extends from {min_date} to {max_date}, with {len(df)} entries.')"
      ],
      "execution_count": 10,
      "outputs": [
        {
          "output_type": "stream",
          "text": [
            "The dataset extends from 2008-10-02 00:00:00 to 2020-02-13 00:00:00, with 221505 entries.\n"
          ],
          "name": "stdout"
        }
      ]
    },
    {
      "cell_type": "markdown",
      "metadata": {
        "id": "MmDLpx8sNe9m"
      },
      "source": [
        "In this case, one can see that the dataset is fairly large. This will be convenient for training."
      ]
    },
    {
      "cell_type": "markdown",
      "metadata": {
        "id": "V-ZI2N8LYrcI"
      },
      "source": [
        "### 2.5 What are the 20 most mentioned tickers?"
      ]
    },
    {
      "cell_type": "code",
      "metadata": {
        "colab": {
          "base_uri": "https://localhost:8080/",
          "height": 700
        },
        "id": "odpIhP1gLc1T",
        "outputId": "447b3a42-fdad-4795-e66e-bd1256c23891"
      },
      "source": [
        "df.groupby(by='ticker').count().sort_values(by='title', ascending=False)[['title']].head(20)"
      ],
      "execution_count": 11,
      "outputs": [
        {
          "output_type": "execute_result",
          "data": {
            "text/html": [
              "<div>\n",
              "<style scoped>\n",
              "    .dataframe tbody tr th:only-of-type {\n",
              "        vertical-align: middle;\n",
              "    }\n",
              "\n",
              "    .dataframe tbody tr th {\n",
              "        vertical-align: top;\n",
              "    }\n",
              "\n",
              "    .dataframe thead th {\n",
              "        text-align: right;\n",
              "    }\n",
              "</style>\n",
              "<table border=\"1\" class=\"dataframe\">\n",
              "  <thead>\n",
              "    <tr style=\"text-align: right;\">\n",
              "      <th></th>\n",
              "      <th>title</th>\n",
              "    </tr>\n",
              "    <tr>\n",
              "      <th>ticker</th>\n",
              "      <th></th>\n",
              "    </tr>\n",
              "  </thead>\n",
              "  <tbody>\n",
              "    <tr>\n",
              "      <th>AAPL</th>\n",
              "      <td>20231</td>\n",
              "    </tr>\n",
              "    <tr>\n",
              "      <th>MSFT</th>\n",
              "      <td>8110</td>\n",
              "    </tr>\n",
              "    <tr>\n",
              "      <th>BAC</th>\n",
              "      <td>7408</td>\n",
              "    </tr>\n",
              "    <tr>\n",
              "      <th>AMZN</th>\n",
              "      <td>6330</td>\n",
              "    </tr>\n",
              "    <tr>\n",
              "      <th>NWSA</th>\n",
              "      <td>5914</td>\n",
              "    </tr>\n",
              "    <tr>\n",
              "      <th>BA</th>\n",
              "      <td>5879</td>\n",
              "    </tr>\n",
              "    <tr>\n",
              "      <th>GOOGL</th>\n",
              "      <td>5171</td>\n",
              "    </tr>\n",
              "    <tr>\n",
              "      <th>GS</th>\n",
              "      <td>4513</td>\n",
              "    </tr>\n",
              "    <tr>\n",
              "      <th>TSLA</th>\n",
              "      <td>4283</td>\n",
              "    </tr>\n",
              "    <tr>\n",
              "      <th>NFLX</th>\n",
              "      <td>3806</td>\n",
              "    </tr>\n",
              "    <tr>\n",
              "      <th>TGT</th>\n",
              "      <td>3689</td>\n",
              "    </tr>\n",
              "    <tr>\n",
              "      <th>INTC</th>\n",
              "      <td>3188</td>\n",
              "    </tr>\n",
              "    <tr>\n",
              "      <th>DIS</th>\n",
              "      <td>2875</td>\n",
              "    </tr>\n",
              "    <tr>\n",
              "      <th>XOM</th>\n",
              "      <td>2831</td>\n",
              "    </tr>\n",
              "    <tr>\n",
              "      <th>JPM</th>\n",
              "      <td>2600</td>\n",
              "    </tr>\n",
              "    <tr>\n",
              "      <th>MS</th>\n",
              "      <td>2498</td>\n",
              "    </tr>\n",
              "    <tr>\n",
              "      <th>GM</th>\n",
              "      <td>2089</td>\n",
              "    </tr>\n",
              "    <tr>\n",
              "      <th>C</th>\n",
              "      <td>2081</td>\n",
              "    </tr>\n",
              "    <tr>\n",
              "      <th>GE</th>\n",
              "      <td>2045</td>\n",
              "    </tr>\n",
              "    <tr>\n",
              "      <th>MU</th>\n",
              "      <td>1927</td>\n",
              "    </tr>\n",
              "  </tbody>\n",
              "</table>\n",
              "</div>"
            ],
            "text/plain": [
              "        title\n",
              "ticker       \n",
              "AAPL    20231\n",
              "MSFT     8110\n",
              "BAC      7408\n",
              "AMZN     6330\n",
              "NWSA     5914\n",
              "BA       5879\n",
              "GOOGL    5171\n",
              "GS       4513\n",
              "TSLA     4283\n",
              "NFLX     3806\n",
              "TGT      3689\n",
              "INTC     3188\n",
              "DIS      2875\n",
              "XOM      2831\n",
              "JPM      2600\n",
              "MS       2498\n",
              "GM       2089\n",
              "C        2081\n",
              "GE       2045\n",
              "MU       1927"
            ]
          },
          "metadata": {
            "tags": []
          },
          "execution_count": 11
        }
      ]
    },
    {
      "cell_type": "markdown",
      "metadata": {
        "id": "LBA-kqm6OC10"
      },
      "source": [
        "Around a 10% of the dataset contains news regarding Apple! The rest of this podium is mainly filled with big tech companies."
      ]
    },
    {
      "cell_type": "markdown",
      "metadata": {
        "id": "jt_TyyNwVxy4"
      },
      "source": [
        "### 2.6 What is the distribution of the article length?"
      ]
    },
    {
      "cell_type": "code",
      "metadata": {
        "colab": {
          "base_uri": "https://localhost:8080/"
        },
        "id": "d8rs-InbOI1D",
        "outputId": "c2cee992-f6fd-4902-d7ab-9c3540afcf53"
      },
      "source": [
        "df['content'].apply(lambda x: len(x)).describe()"
      ],
      "execution_count": 12,
      "outputs": [
        {
          "output_type": "execute_result",
          "data": {
            "text/plain": [
              "count    221505.000000\n",
              "mean       3491.601187\n",
              "std        3077.243286\n",
              "min           3.000000\n",
              "25%        1957.000000\n",
              "50%        3054.000000\n",
              "75%        4399.000000\n",
              "max      140262.000000\n",
              "Name: content, dtype: float64"
            ]
          },
          "metadata": {
            "tags": []
          },
          "execution_count": 12
        }
      ]
    },
    {
      "cell_type": "code",
      "metadata": {
        "colab": {
          "base_uri": "https://localhost:8080/",
          "height": 265
        },
        "id": "rXLxMRlGL_oY",
        "outputId": "ee8d1879-1082-4b16-f310-45e4f70b2d6d"
      },
      "source": [
        "df['content'].apply(lambda x: len(x)).plot.hist(bins=20)\n",
        "plt.show()"
      ],
      "execution_count": 13,
      "outputs": [
        {
          "output_type": "display_data",
          "data": {
            "image/png": "[encoded data removed]",
            "text/plain": [
              "<Figure size 432x288 with 1 Axes>"
            ]
          },
          "metadata": {
            "tags": [],
            "needs_background": "light"
          }
        }
      ]
    },
    {
      "cell_type": "markdown",
      "metadata": {
        "id": "gFhO5qG9OHa_"
      },
      "source": [
        "The distribution of the number of characters in every article is significantly right-skewed, with a mean around 3500 characters. The maximum article length is also very significant. "
      ]
    },
    {
      "cell_type": "code",
      "metadata": {
        "colab": {
          "base_uri": "https://localhost:8080/"
        },
        "id": "1u3NBiz0Ossg",
        "outputId": "3784bc0c-582f-45d5-feda-4d954ccb3813"
      },
      "source": [
        "df['content'].apply(lambda x: len(x.split(' '))).describe()"
      ],
      "execution_count": 14,
      "outputs": [
        {
          "output_type": "execute_result",
          "data": {
            "text/plain": [
              "count    221505.000000\n",
              "mean        689.325631\n",
              "std         599.451036\n",
              "min           1.000000\n",
              "25%         386.000000\n",
              "50%         603.000000\n",
              "75%         864.000000\n",
              "max       27353.000000\n",
              "Name: content, dtype: float64"
            ]
          },
          "metadata": {
            "tags": []
          },
          "execution_count": 14
        }
      ]
    },
    {
      "cell_type": "markdown",
      "metadata": {
        "id": "QSDWSzZYPAFk"
      },
      "source": [
        "If we look at the number of words in every article, we see a fairly large mean (almost 700). This is well above the maximum sequence length accepted by BERT (512). In any case, the application will trim every article that is longer than the specified maximum sequence length."
      ]
    },
    {
      "cell_type": "markdown",
      "metadata": {
        "id": "BjWQLPdKkWQV"
      },
      "source": [
        "## 3. Importing Market Data for each Ticker"
      ]
    },
    {
      "cell_type": "markdown",
      "metadata": {
        "id": "r8yQzqcWY7pi"
      },
      "source": [
        "### 3.1 Letting the application do its thing."
      ]
    },
    {
      "cell_type": "markdown",
      "metadata": {
        "id": "EHZFWJkFU3Ux"
      },
      "source": [
        "Let's begin the processing of this dataset using the application. To make sure all results will be adequately saved, a Google Drive directory is set as `base_directory`. Moreover, only a certainn set of sectors are selected to filter out the rest."
      ]
    },
    {
      "cell_type": "code",
      "metadata": {
        "id": "mKdkmlUIacEx"
      },
      "source": [
        "f = FinancialNewsPredictor(df, \n",
        "                           base_directory='/content/drive/MyDrive/Natural Language Processing/Group Assignment/',\n",
        "                           selection=['Technology', 'Financial Services', 'Consumer Cyclical', 'Communication Services'],\n",
        "                           selection_mode='sector')"
      ],
      "execution_count": 68,
      "outputs": []
    },
    {
      "cell_type": "markdown",
      "metadata": {
        "id": "FzHVIsUgVcZk"
      },
      "source": [
        "Now, market data is downloaded with `f.import_financial_data()`, for the following days after the news release date: 1, 2, 3, 4, 5, 6, 7, 10 and 14."
      ]
    },
    {
      "cell_type": "code",
      "metadata": {
        "id": "7qVUajjFlzP6"
      },
      "source": [
        "f.import_financial_data(deltas=[1, 2, 3, 4, 5, 6, 7, 10, 14])"
      ],
      "execution_count": 69,
      "outputs": []
    },
    {
      "cell_type": "markdown",
      "metadata": {
        "id": "KB4Ux3tRZEtZ"
      },
      "source": [
        "### 3.2 How many different sectors and industries are there in the dataset?"
      ]
    },
    {
      "cell_type": "markdown",
      "metadata": {
        "id": "Yl1yQqWYVpp9"
      },
      "source": [
        "Let's see what is the sector distribution of the initial (unfilitered) dataset. Note that the specified selections are only implemented a few steps later."
      ]
    },
    {
      "cell_type": "code",
      "metadata": {
        "colab": {
          "base_uri": "https://localhost:8080/",
          "height": 452
        },
        "id": "z4Xm-C3ZjhNF",
        "outputId": "8ce6f4a4-b8b5-40c1-d91d-8a5a8338b5c3"
      },
      "source": [
        "f.market_data.groupby(by='sector').count().sort_values(by='ticker', ascending=False)[['ticker']]"
      ],
      "execution_count": 70,
      "outputs": [
        {
          "output_type": "execute_result",
          "data": {
            "text/html": [
              "<div>\n",
              "<style scoped>\n",
              "    .dataframe tbody tr th:only-of-type {\n",
              "        vertical-align: middle;\n",
              "    }\n",
              "\n",
              "    .dataframe tbody tr th {\n",
              "        vertical-align: top;\n",
              "    }\n",
              "\n",
              "    .dataframe thead th {\n",
              "        text-align: right;\n",
              "    }\n",
              "</style>\n",
              "<table border=\"1\" class=\"dataframe\">\n",
              "  <thead>\n",
              "    <tr style=\"text-align: right;\">\n",
              "      <th></th>\n",
              "      <th>ticker</th>\n",
              "    </tr>\n",
              "    <tr>\n",
              "      <th>sector</th>\n",
              "      <th></th>\n",
              "    </tr>\n",
              "  </thead>\n",
              "  <tbody>\n",
              "    <tr>\n",
              "      <th>Technology</th>\n",
              "      <td>47587</td>\n",
              "    </tr>\n",
              "    <tr>\n",
              "      <th>Financial Services</th>\n",
              "      <td>33683</td>\n",
              "    </tr>\n",
              "    <tr>\n",
              "      <th>Consumer Cyclical</th>\n",
              "      <td>30361</td>\n",
              "    </tr>\n",
              "    <tr>\n",
              "      <th>Industrials</th>\n",
              "      <td>22356</td>\n",
              "    </tr>\n",
              "    <tr>\n",
              "      <th>Communication Services</th>\n",
              "      <td>17988</td>\n",
              "    </tr>\n",
              "    <tr>\n",
              "      <th>Consumer Defensive</th>\n",
              "      <td>13624</td>\n",
              "    </tr>\n",
              "    <tr>\n",
              "      <th>Healthcare</th>\n",
              "      <td>13568</td>\n",
              "    </tr>\n",
              "    <tr>\n",
              "      <th>Energy</th>\n",
              "      <td>10902</td>\n",
              "    </tr>\n",
              "    <tr>\n",
              "      <th>Basic Materials</th>\n",
              "      <td>6608</td>\n",
              "    </tr>\n",
              "    <tr>\n",
              "      <th>Utilities</th>\n",
              "      <td>3770</td>\n",
              "    </tr>\n",
              "    <tr>\n",
              "      <th>Real Estate</th>\n",
              "      <td>2475</td>\n",
              "    </tr>\n",
              "    <tr>\n",
              "      <th>Unknown</th>\n",
              "      <td>1690</td>\n",
              "    </tr>\n",
              "  </tbody>\n",
              "</table>\n",
              "</div>"
            ],
            "text/plain": [
              "                        ticker\n",
              "sector                        \n",
              "Technology               47587\n",
              "Financial Services       33683\n",
              "Consumer Cyclical        30361\n",
              "Industrials              22356\n",
              "Communication Services   17988\n",
              "Consumer Defensive       13624\n",
              "Healthcare               13568\n",
              "Energy                   10902\n",
              "Basic Materials           6608\n",
              "Utilities                 3770\n",
              "Real Estate               2475\n",
              "Unknown                   1690"
            ]
          },
          "metadata": {
            "tags": []
          },
          "execution_count": 70
        }
      ]
    },
    {
      "cell_type": "code",
      "metadata": {
        "colab": {
          "base_uri": "https://localhost:8080/",
          "height": 390
        },
        "id": "X6cX6e3yjX0K",
        "outputId": "dda4462c-e0e3-4e5d-9331-6200be9bfab3"
      },
      "source": [
        "f.market_data.groupby(by='industry').count().sort_values(by='ticker', ascending=False)[['ticker']].head(10)"
      ],
      "execution_count": 71,
      "outputs": [
        {
          "output_type": "execute_result",
          "data": {
            "text/html": [
              "<div>\n",
              "<style scoped>\n",
              "    .dataframe tbody tr th:only-of-type {\n",
              "        vertical-align: middle;\n",
              "    }\n",
              "\n",
              "    .dataframe tbody tr th {\n",
              "        vertical-align: top;\n",
              "    }\n",
              "\n",
              "    .dataframe thead th {\n",
              "        text-align: right;\n",
              "    }\n",
              "</style>\n",
              "<table border=\"1\" class=\"dataframe\">\n",
              "  <thead>\n",
              "    <tr style=\"text-align: right;\">\n",
              "      <th></th>\n",
              "      <th>ticker</th>\n",
              "    </tr>\n",
              "    <tr>\n",
              "      <th>industry</th>\n",
              "      <th></th>\n",
              "    </tr>\n",
              "  </thead>\n",
              "  <tbody>\n",
              "    <tr>\n",
              "      <th>Consumer Electronics</th>\n",
              "      <td>19824</td>\n",
              "    </tr>\n",
              "    <tr>\n",
              "      <th>Banks—Diversified</th>\n",
              "      <td>13212</td>\n",
              "    </tr>\n",
              "    <tr>\n",
              "      <th>Software—Infrastructure</th>\n",
              "      <td>9873</td>\n",
              "    </tr>\n",
              "    <tr>\n",
              "      <th>Auto Manufacturers</th>\n",
              "      <td>8817</td>\n",
              "    </tr>\n",
              "    <tr>\n",
              "      <th>Entertainment</th>\n",
              "      <td>7937</td>\n",
              "    </tr>\n",
              "    <tr>\n",
              "      <th>Semiconductors</th>\n",
              "      <td>7770</td>\n",
              "    </tr>\n",
              "    <tr>\n",
              "      <th>Aerospace &amp; Defense</th>\n",
              "      <td>7502</td>\n",
              "    </tr>\n",
              "    <tr>\n",
              "      <th>Capital Markets</th>\n",
              "      <td>7214</td>\n",
              "    </tr>\n",
              "    <tr>\n",
              "      <th>Internet Retail</th>\n",
              "      <td>6410</td>\n",
              "    </tr>\n",
              "    <tr>\n",
              "      <th>Internet Content &amp; Information</th>\n",
              "      <td>5923</td>\n",
              "    </tr>\n",
              "  </tbody>\n",
              "</table>\n",
              "</div>"
            ],
            "text/plain": [
              "                                ticker\n",
              "industry                              \n",
              "Consumer Electronics             19824\n",
              "Banks—Diversified                13212\n",
              "Software—Infrastructure           9873\n",
              "Auto Manufacturers                8817\n",
              "Entertainment                     7937\n",
              "Semiconductors                    7770\n",
              "Aerospace & Defense               7502\n",
              "Capital Markets                   7214\n",
              "Internet Retail                   6410\n",
              "Internet Content & Information    5923"
            ]
          },
          "metadata": {
            "tags": []
          },
          "execution_count": 71
        }
      ]
    },
    {
      "cell_type": "markdown",
      "metadata": {
        "id": "DMzxI5YJV6jb"
      },
      "source": [
        "Whereas news are more or less homogeneously distributed among sectors (Technology, Financial Services, Consumer Cyclical), the multiple industries are not as well spread out, a big chunk of the news belonging to Consumer Electronics or Banks."
      ]
    },
    {
      "cell_type": "markdown",
      "metadata": {
        "id": "LMAhMakAZLdW"
      },
      "source": [
        "### 3.3 How many missing prices are there in the dataset?"
      ]
    },
    {
      "cell_type": "code",
      "metadata": {
        "colab": {
          "base_uri": "https://localhost:8080/"
        },
        "id": "AptmtpsxZQky",
        "outputId": "052c718d-97e2-4e08-fe09-80db580cfd33"
      },
      "source": [
        "f.market_data.isna().sum(axis=0)"
      ],
      "execution_count": 72,
      "outputs": [
        {
          "output_type": "execute_result",
          "data": {
            "text/plain": [
              "Unnamed: 0        0\n",
              "id                0\n",
              "ticker            0\n",
              "date_base         0\n",
              "date_+1           0\n",
              "date_+2           0\n",
              "date_+3           0\n",
              "date_+4           0\n",
              "date_+5           0\n",
              "date_+6           0\n",
              "date_+7           0\n",
              "date_+10          0\n",
              "date_+14          0\n",
              "sector          212\n",
              "industry        212\n",
              "close_base        0\n",
              "open_base         0\n",
              "close_+1       2650\n",
              "close_+2       6122\n",
              "close_+3       9785\n",
              "close_+4      10110\n",
              "close_+5      10098\n",
              "close_+6      11214\n",
              "close_+7       7889\n",
              "close_+10     10092\n",
              "close_+14      8688\n",
              "dtype: int64"
            ]
          },
          "metadata": {
            "tags": []
          },
          "execution_count": 72
        }
      ]
    },
    {
      "cell_type": "markdown",
      "metadata": {
        "id": "UQddh8fuWbMl"
      },
      "source": [
        "Although there is a significant amount of missing prices. These rows will be dropped later on, since they correspond to companies not represented by the Yahoo Finance API."
      ]
    },
    {
      "cell_type": "markdown",
      "metadata": {
        "id": "9vCxrvi9ZwnB"
      },
      "source": [
        "## 4. Labeling Financial News According to Price Evolutions"
      ]
    },
    {
      "cell_type": "code",
      "metadata": {
        "colab": {
          "base_uri": "https://localhost:8080/"
        },
        "id": "Kx1Uv039j4F_",
        "outputId": "98fc10f7-b615-4393-ef46-3d4922c71c5b"
      },
      "source": [
        "f.apply_selection()\n",
        "f.label_financial_data(method='MA', delta_to_examine=[5,6,7], threshold=0.01)"
      ],
      "execution_count": 73,
      "outputs": [
        {
          "output_type": "stream",
          "text": [
            "Class Distribution\n",
            "    Financial News Labeled with \"sell\": 14331 (14.87%)\n",
            "    Financial News Labeled with \"buy\": 17777 (18.45%)\n",
            "    Financial News Labeled with \"do_nothing\": 64241 (66.68%)\n",
            "14331 + 17777 + 64241 = 96349=96349\n"
          ],
          "name": "stdout"
        }
      ]
    },
    {
      "cell_type": "markdown",
      "metadata": {
        "id": "uRmb9DrSX7wS"
      },
      "source": [
        "For the selected method, which compares the average of the whole week after the news release date with the average of the last three days of such week, only 32% of the dataset corresponds to news in which it is adviseable to enter the market according to the implemented method. It would be interesting to try with different thresholds or criteria, to see how class homogeneity reacts."
      ]
    },
    {
      "cell_type": "markdown",
      "metadata": {
        "id": "PZpfwm08WSIg"
      },
      "source": [
        "## 5. Training a Text Classifier to Predict Price Evolutions\n",
        "\n",
        "Now, let's use ktrain to define a text classifier to predict the market actions associated to each financial news. Although a lighter, distilled version of BERT is used (`model = 'distilbert'`), the maximum sequence length and the batch size have not been maximized.\n",
        "\n",
        "Given that the mean sequence length in the dataset is close to 600, it was first attempted to employ `max_len=512` (the maximum value for BERT). However, this resulted in very long training times, due to the large dataset (around 40 hours per epoch, even with DistilBERT). Therefore, assuming that in most news articles, most of the relevant information is presented at the beginning of the article, `max_len`was reduced to 256. Based on this selection, a batch size close to 10 works well on Google Colab's GPU.\n"
      ]
    },
    {
      "cell_type": "code",
      "metadata": {
        "id": "F-oY3ttycUZw"
      },
      "source": [
        "f.create_classifier(model='distilbert', max_len=256, batch_size=10, split_type='random')"
      ],
      "execution_count": 74,
      "outputs": []
    },
    {
      "cell_type": "code",
      "metadata": {
        "id": "sslQaJF7EyJv"
      },
      "source": [
        "f.train_classifier(epochs=10, early_stopping=3)"
      ],
      "execution_count": 75,
      "outputs": []
    },
    {
      "cell_type": "markdown",
      "metadata": {
        "id": "H5j1tFdbbIj8"
      },
      "source": [
        "## 6. Predicting and Simulating with the Model"
      ]
    },
    {
      "cell_type": "markdown",
      "metadata": {
        "id": "9OWGZHvCboKV"
      },
      "source": [
        "### 6.1 Prediction"
      ]
    },
    {
      "cell_type": "code",
      "metadata": {
        "id": "osTa5tUyFF7P"
      },
      "source": [
        "f.predict_with_classifier()"
      ],
      "execution_count": 76,
      "outputs": []
    },
    {
      "cell_type": "markdown",
      "metadata": {
        "id": "tdNpI-ZcbZND"
      },
      "source": [
        "### 6.2 What is the resulting confusion matrix for the validation set?"
      ]
    },
    {
      "cell_type": "code",
      "metadata": {
        "colab": {
          "base_uri": "https://localhost:8080/",
          "height": 142
        },
        "id": "5mOEYumCbYNV",
        "outputId": "b95810ff-8923-4b48-ac7a-bb07c7d7db76"
      },
      "source": [
        "y_true = f.predictions.loc[f.predictions['is_validation'] == 1,['buy', 'sell', 'do_nothing']].apply(lambda row: 'buy' if row[0] == 1 else ('sell' if row[1] == 1 else 'do_nothing'), axis=1)\n",
        "y_pred = f.predictions.loc[f.predictions['is_validation'] == 1, 'prediction']\n",
        "conf_mat = pd.DataFrame(\n",
        "      data=confusion_matrix(\n",
        "          y_true, \n",
        "          y_pred, \n",
        "          labels=['buy', 'sell', 'do_nothing'],\n",
        "          normalize='true'), \n",
        "      index=['True = buy', 'True = sell', 'True = do_nothing'],\n",
        "      columns=['Predicted = buy [%]', 'Predicted = sell [%]', 'Predicted = do_nothing [%]']) * 100\n",
        "conf_mat['Total per Class'] = y_true\\\n",
        "                          .value_counts()\\\n",
        "                          .rename(\n",
        "                              index={label: 'True = ' + label for label in ['buy', 'sell', 'do_nothing']})\n",
        "conf_mat"
      ],
      "execution_count": 77,
      "outputs": [
        {
          "output_type": "execute_result",
          "data": {
            "text/html": [
              "<div>\n",
              "<style scoped>\n",
              "    .dataframe tbody tr th:only-of-type {\n",
              "        vertical-align: middle;\n",
              "    }\n",
              "\n",
              "    .dataframe tbody tr th {\n",
              "        vertical-align: top;\n",
              "    }\n",
              "\n",
              "    .dataframe thead th {\n",
              "        text-align: right;\n",
              "    }\n",
              "</style>\n",
              "<table border=\"1\" class=\"dataframe\">\n",
              "  <thead>\n",
              "    <tr style=\"text-align: right;\">\n",
              "      <th></th>\n",
              "      <th>Predicted = buy [%]</th>\n",
              "      <th>Predicted = sell [%]</th>\n",
              "      <th>Predicted = do_nothing [%]</th>\n",
              "      <th>Total per Class</th>\n",
              "    </tr>\n",
              "  </thead>\n",
              "  <tbody>\n",
              "    <tr>\n",
              "      <th>True = buy</th>\n",
              "      <td>5.680540</td>\n",
              "      <td>26.602925</td>\n",
              "      <td>67.716535</td>\n",
              "      <td>3556</td>\n",
              "    </tr>\n",
              "    <tr>\n",
              "      <th>True = sell</th>\n",
              "      <td>3.907886</td>\n",
              "      <td>41.800419</td>\n",
              "      <td>54.291696</td>\n",
              "      <td>2866</td>\n",
              "    </tr>\n",
              "    <tr>\n",
              "      <th>True = do_nothing</th>\n",
              "      <td>1.564446</td>\n",
              "      <td>33.297011</td>\n",
              "      <td>65.138543</td>\n",
              "      <td>12848</td>\n",
              "    </tr>\n",
              "  </tbody>\n",
              "</table>\n",
              "</div>"
            ],
            "text/plain": [
              "                   Predicted = buy [%]  ...  Total per Class\n",
              "True = buy                    5.680540  ...             3556\n",
              "True = sell                   3.907886  ...             2866\n",
              "True = do_nothing             1.564446  ...            12848\n",
              "\n",
              "[3 rows x 4 columns]"
            ]
          },
          "metadata": {
            "tags": []
          },
          "execution_count": 77
        }
      ]
    },
    {
      "cell_type": "markdown",
      "metadata": {
        "id": "PAEhA9T8wxLX"
      },
      "source": [
        "Notes on these results:\n",
        "* As we have seen, there is a slight class inbalance in the original dataset, since most of the news (66.7 %) are labeled with 'do_nothing'. \n",
        "* As a consequence, the model has a greater tendency to label news with 'do_nothing', although their true class is another one. \n",
        "    * For news with a true 'buy' label in the validation set, 67.7 % are predicted to belong to 'do_nothing', whereas only 5.7 % are predicted with their actual class.\n",
        "    * For news with a true 'sell' label in the validation set, 54.3 % are predicted to belong to 'do_nothing', whereas 41.8 % are predicted with their actual class.\n",
        "* Curiously, the model is able to detect occasions to sell with greater sensitivity than occasions to buy (41.8 % versus 5.7 %), even when the original dataset has more cases labeled with 'buy'."
      ]
    },
    {
      "cell_type": "markdown",
      "metadata": {
        "id": "fywk-aOSz-3k"
      },
      "source": [
        "### 6.3 What are the resulting Accuracy, F1 Score, and Matthew's Correlation Coefficient?\n",
        "\n",
        "Given that the classes are unbalanced, it seems convenient to use MCC to counter-examine the accuracy and the F1 scores."
      ]
    },
    {
      "cell_type": "code",
      "metadata": {
        "colab": {
          "base_uri": "https://localhost:8080/"
        },
        "id": "hcjrLyZWz-jt",
        "outputId": "a2fca677-8d3c-4bb3-8839-a214ccc6b414"
      },
      "source": [
        "acc = accuracy_score(y_true, y_pred)\n",
        "f1 = f1_score(y_true, y_pred, labels=['buy', 'sell', 'do_nothing'], average='micro')\n",
        "mcc = matthews_corrcoef(y_true, y_pred)\n",
        "print(f'Accuracy = {acc:.3f}, F1 Score = {f1:.3f}, MCC = {mcc:.3f}')"
      ],
      "execution_count": 78,
      "outputs": [
        {
          "output_type": "stream",
          "text": [
            "Accuracy = 0.507, F1 Score = 0.507, MCC = 0.053\n"
          ],
          "name": "stdout"
        }
      ]
    },
    {
      "cell_type": "markdown",
      "metadata": {
        "id": "gH4fUwZF2KL5"
      },
      "source": [
        "It is very likely that the model's tendency to label news with 'do_nothing', and the majority of these news may artificially increase the accuracy and the F1 scores, as the MCC shows that the model is not performing as well when class imbalances are taken into account. Further work has to be carried out to improve this metric, in particular:\n",
        "* Examining different labeling criteria based on the prices close to the news release date.\n",
        "* Testing different hyperparameter combinations for the model's training (perhaps a larger `max_len` will capture more information of every article at a sustainable increase in computation time.\n",
        "* Testing with other models. NBSVM or Bidirectional GRU are good alternatives. "
      ]
    },
    {
      "cell_type": "markdown",
      "metadata": {
        "id": "0CloJogwbvIy"
      },
      "source": [
        "### 6.3 Simulating a Model-Managed Portfolio"
      ]
    },
    {
      "cell_type": "markdown",
      "metadata": {
        "id": "-Pi349pd3R38"
      },
      "source": [
        "Another way of evaluating the model involves seeing how a portfolio completely managed by it would perform in the market. Let's focus on a relatively uneventful series of years, for a couple of the most mentioned companies in the dataset. "
      ]
    },
    {
      "cell_type": "code",
      "metadata": {
        "id": "VQ8j_xHTKxLW",
        "colab": {
          "base_uri": "https://localhost:8080/",
          "height": 933
        },
        "outputId": "852a130c-0884-4f10-da54-b49a538de563"
      },
      "source": [
        "f.simulate_portfolio(starting_amount=1000, \n",
        "                     start_date='2015-01-01', \n",
        "                     end_date='2020-01-01', \n",
        "                     selection=['AAPL', 'MSFT', 'BAC', 'AMZN', 'NWSA', 'BA', 'GOOGL', 'GS', 'NFLX', 'TSLA', 'TGT'],\n",
        "                     only_validation=True\n",
        "                     )"
      ],
      "execution_count": 79,
      "outputs": [
        {
          "output_type": "stream",
          "text": [
            "[*********************100%***********************]  1 of 1 completed\n",
            "[*********************100%***********************]  1 of 1 completed\n",
            "[*********************100%***********************]  1 of 1 completed\n",
            "[*********************100%***********************]  1 of 1 completed\n",
            "[*********************100%***********************]  1 of 1 completed\n",
            "[*********************100%***********************]  1 of 1 completed\n",
            "[*********************100%***********************]  1 of 1 completed\n",
            "[*********************100%***********************]  1 of 1 completed\n",
            "[*********************100%***********************]  1 of 1 completed\n",
            "[*********************100%***********************]  1 of 1 completed\n",
            "[*********************100%***********************]  1 of 1 completed\n",
            "[*********************100%***********************]  1 of 1 completed\n"
          ],
          "name": "stdout"
        },
        {
          "output_type": "display_data",
          "data": {
            "image/png": "[encoded data removed]",
            "text/plain": [
              "<Figure size 1080x720 with 1 Axes>"
            ]
          },
          "metadata": {
            "tags": [],
            "needs_background": "light"
          }
        }
      ]
    },
    {
      "cell_type": "code",
      "metadata": {
        "id": "0NEwyXmknhba",
        "colab": {
          "base_uri": "https://localhost:8080/",
          "height": 196
        },
        "outputId": "09c1ff45-2387-4d34-c39c-55365e4a4628"
      },
      "source": [
        "selection = ['AAPL', 'MSFT', 'BAC', 'AMZN', 'NWSA', 'BA', 'GOOGL', 'GS', 'NFLX', 'TSLA', 'TGT']\n",
        "columns_to_compare = ['Quantity_' + tick for tick in selection] + ['Cash', 'Total']\n",
        "f.simulated_portfolio.iloc[[0, len(f.simulated_portfolio) - 1], :][columns_to_compare]"
      ],
      "execution_count": 80,
      "outputs": [
        {
          "output_type": "execute_result",
          "data": {
            "text/html": [
              "<div>\n",
              "<style scoped>\n",
              "    .dataframe tbody tr th:only-of-type {\n",
              "        vertical-align: middle;\n",
              "    }\n",
              "\n",
              "    .dataframe tbody tr th {\n",
              "        vertical-align: top;\n",
              "    }\n",
              "\n",
              "    .dataframe thead th {\n",
              "        text-align: right;\n",
              "    }\n",
              "</style>\n",
              "<table border=\"1\" class=\"dataframe\">\n",
              "  <thead>\n",
              "    <tr style=\"text-align: right;\">\n",
              "      <th></th>\n",
              "      <th>Quantity_AAPL</th>\n",
              "      <th>Quantity_MSFT</th>\n",
              "      <th>Quantity_BAC</th>\n",
              "      <th>Quantity_AMZN</th>\n",
              "      <th>Quantity_NWSA</th>\n",
              "      <th>Quantity_BA</th>\n",
              "      <th>Quantity_GOOGL</th>\n",
              "      <th>Quantity_GS</th>\n",
              "      <th>Quantity_NFLX</th>\n",
              "      <th>Quantity_TSLA</th>\n",
              "      <th>Quantity_TGT</th>\n",
              "      <th>Cash</th>\n",
              "      <th>Total</th>\n",
              "    </tr>\n",
              "    <tr>\n",
              "      <th>Date</th>\n",
              "      <th></th>\n",
              "      <th></th>\n",
              "      <th></th>\n",
              "      <th></th>\n",
              "      <th></th>\n",
              "      <th></th>\n",
              "      <th></th>\n",
              "      <th></th>\n",
              "      <th></th>\n",
              "      <th></th>\n",
              "      <th></th>\n",
              "      <th></th>\n",
              "      <th></th>\n",
              "    </tr>\n",
              "  </thead>\n",
              "  <tbody>\n",
              "    <tr>\n",
              "      <th>2015-01-01 00:00:00+00:00</th>\n",
              "      <td>1000</td>\n",
              "      <td>1000</td>\n",
              "      <td>1000</td>\n",
              "      <td>1000</td>\n",
              "      <td>1000</td>\n",
              "      <td>1000</td>\n",
              "      <td>1000</td>\n",
              "      <td>1000</td>\n",
              "      <td>1000</td>\n",
              "      <td>1000</td>\n",
              "      <td>1000</td>\n",
              "      <td>1.000000e+03</td>\n",
              "      <td>1.440053e+06</td>\n",
              "    </tr>\n",
              "    <tr>\n",
              "      <th>2019-12-17 00:00:00+00:00</th>\n",
              "      <td>578</td>\n",
              "      <td>860</td>\n",
              "      <td>771</td>\n",
              "      <td>948</td>\n",
              "      <td>991</td>\n",
              "      <td>1000</td>\n",
              "      <td>952</td>\n",
              "      <td>784</td>\n",
              "      <td>1033</td>\n",
              "      <td>1189</td>\n",
              "      <td>1000</td>\n",
              "      <td>2.359928e+06</td>\n",
              "      <td>6.583794e+06</td>\n",
              "    </tr>\n",
              "  </tbody>\n",
              "</table>\n",
              "</div>"
            ],
            "text/plain": [
              "                           Quantity_AAPL  ...         Total\n",
              "Date                                      ...              \n",
              "2015-01-01 00:00:00+00:00           1000  ...  1.440053e+06\n",
              "2019-12-17 00:00:00+00:00            578  ...  6.583794e+06\n",
              "\n",
              "[2 rows x 13 columns]"
            ]
          },
          "metadata": {
            "tags": []
          },
          "execution_count": 80
        }
      ]
    },
    {
      "cell_type": "markdown",
      "metadata": {
        "id": "ybDtCeKb4JL1"
      },
      "source": [
        "Apparently, based on the news it has received, the model sells from its Apple, Goldman Sachs, and Bank of America stocks, and makes the effort to buy Netflix and Tesla stocks. With the increase in cash from the sales and the growth in price of Tesla and Netflix, the portfolio's value increases very significantly. Note that the resulting portfolio is 75% more profitable than holding the initial portfolio during the whole time period!"
      ]
    },
    {
      "cell_type": "code",
      "metadata": {
        "id": "WwV3rwY63pQh"
      },
      "source": [
        ""
      ],
      "execution_count": 80,
      "outputs": []
    }
  ]
}